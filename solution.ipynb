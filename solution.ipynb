{
 "cells": [
  {
   "cell_type": "markdown",
   "metadata": {},
   "source": [
    "Netflix Movies and TV Shows"
   ]
  },
  {
   "cell_type": "code",
   "execution_count": 40,
   "metadata": {},
   "outputs": [
    {
     "name": "stdout",
     "output_type": "stream",
     "text": [
      "Defaulting to user installation because normal site-packages is not writeable\n",
      "Requirement already satisfied: geopandas in c:\\users\\gymnasiet\\appdata\\local\\packages\\pythonsoftwarefoundation.python.3.12_qbz5n2kfra8p0\\localcache\\local-packages\\python312\\site-packages (1.0.1)\n",
      "Requirement already satisfied: numpy>=1.22 in c:\\users\\gymnasiet\\appdata\\local\\packages\\pythonsoftwarefoundation.python.3.12_qbz5n2kfra8p0\\localcache\\local-packages\\python312\\site-packages (from geopandas) (2.1.2)\n",
      "Requirement already satisfied: pyogrio>=0.7.2 in c:\\users\\gymnasiet\\appdata\\local\\packages\\pythonsoftwarefoundation.python.3.12_qbz5n2kfra8p0\\localcache\\local-packages\\python312\\site-packages (from geopandas) (0.10.0)\n",
      "Requirement already satisfied: packaging in c:\\users\\gymnasiet\\appdata\\local\\packages\\pythonsoftwarefoundation.python.3.12_qbz5n2kfra8p0\\localcache\\local-packages\\python312\\site-packages (from geopandas) (23.2)\n",
      "Requirement already satisfied: pandas>=1.4.0 in c:\\users\\gymnasiet\\appdata\\local\\packages\\pythonsoftwarefoundation.python.3.12_qbz5n2kfra8p0\\localcache\\local-packages\\python312\\site-packages (from geopandas) (2.2.3)\n",
      "Requirement already satisfied: pyproj>=3.3.0 in c:\\users\\gymnasiet\\appdata\\local\\packages\\pythonsoftwarefoundation.python.3.12_qbz5n2kfra8p0\\localcache\\local-packages\\python312\\site-packages (from geopandas) (3.7.0)\n",
      "Requirement already satisfied: shapely>=2.0.0 in c:\\users\\gymnasiet\\appdata\\local\\packages\\pythonsoftwarefoundation.python.3.12_qbz5n2kfra8p0\\localcache\\local-packages\\python312\\site-packages (from geopandas) (2.0.6)\n",
      "Requirement already satisfied: python-dateutil>=2.8.2 in c:\\users\\gymnasiet\\appdata\\local\\packages\\pythonsoftwarefoundation.python.3.12_qbz5n2kfra8p0\\localcache\\local-packages\\python312\\site-packages (from pandas>=1.4.0->geopandas) (2.9.0.post0)\n",
      "Requirement already satisfied: pytz>=2020.1 in c:\\users\\gymnasiet\\appdata\\local\\packages\\pythonsoftwarefoundation.python.3.12_qbz5n2kfra8p0\\localcache\\local-packages\\python312\\site-packages (from pandas>=1.4.0->geopandas) (2024.2)\n",
      "Requirement already satisfied: tzdata>=2022.7 in c:\\users\\gymnasiet\\appdata\\local\\packages\\pythonsoftwarefoundation.python.3.12_qbz5n2kfra8p0\\localcache\\local-packages\\python312\\site-packages (from pandas>=1.4.0->geopandas) (2024.2)\n",
      "Requirement already satisfied: certifi in c:\\users\\gymnasiet\\appdata\\local\\packages\\pythonsoftwarefoundation.python.3.12_qbz5n2kfra8p0\\localcache\\local-packages\\python312\\site-packages (from pyogrio>=0.7.2->geopandas) (2024.8.30)\n",
      "Requirement already satisfied: six>=1.5 in c:\\users\\gymnasiet\\appdata\\local\\packages\\pythonsoftwarefoundation.python.3.12_qbz5n2kfra8p0\\localcache\\local-packages\\python312\\site-packages (from python-dateutil>=2.8.2->pandas>=1.4.0->geopandas) (1.16.0)\n"
     ]
    },
    {
     "name": "stderr",
     "output_type": "stream",
     "text": [
      "\n",
      "[notice] A new release of pip is available: 24.2 -> 24.3.1\n",
      "[notice] To update, run: C:\\Users\\Gymnasiet\\AppData\\Local\\Microsoft\\WindowsApps\\PythonSoftwareFoundation.Python.3.12_qbz5n2kfra8p0\\python.exe -m pip install --upgrade pip\n"
     ]
    }
   ],
   "source": [
    "! pip install geopandas"
   ]
  },
  {
   "cell_type": "code",
   "execution_count": 41,
   "metadata": {},
   "outputs": [
    {
     "name": "stdout",
     "output_type": "stream",
     "text": [
      "  show_id     type                  title         director  \\\n",
      "0      s1    Movie   Dick Johnson Is Dead  Kirsten Johnson   \n",
      "1      s2  TV Show          Blood & Water              NaN   \n",
      "2      s3  TV Show              Ganglands  Julien Leclercq   \n",
      "3      s4  TV Show  Jailbirds New Orleans              NaN   \n",
      "4      s5  TV Show           Kota Factory              NaN   \n",
      "\n",
      "                                                cast        country  \\\n",
      "0                                                NaN  United States   \n",
      "1  Ama Qamata, Khosi Ngema, Gail Mabalane, Thaban...   South Africa   \n",
      "2  Sami Bouajila, Tracy Gotoas, Samuel Jouy, Nabi...            NaN   \n",
      "3                                                NaN            NaN   \n",
      "4  Mayur More, Jitendra Kumar, Ranjan Raj, Alam K...          India   \n",
      "\n",
      "           date_added  release_year rating   duration  \\\n",
      "0  September 25, 2021          2020  PG-13     90 min   \n",
      "1  September 24, 2021          2021  TV-MA  2 Seasons   \n",
      "2  September 24, 2021          2021  TV-MA   1 Season   \n",
      "3  September 24, 2021          2021  TV-MA   1 Season   \n",
      "4  September 24, 2021          2021  TV-MA  2 Seasons   \n",
      "\n",
      "                                           listed_in  \\\n",
      "0                                      Documentaries   \n",
      "1    International TV Shows, TV Dramas, TV Mysteries   \n",
      "2  Crime TV Shows, International TV Shows, TV Act...   \n",
      "3                             Docuseries, Reality TV   \n",
      "4  International TV Shows, Romantic TV Shows, TV ...   \n",
      "\n",
      "                                         description  \n",
      "0  As her father nears the end of his life, filmm...  \n",
      "1  After crossing paths at a party, a Cape Town t...  \n",
      "2  To protect his family from a powerful drug lor...  \n",
      "3  Feuds, flirtations and toilet talk go down amo...  \n",
      "4  In a city of coaching centers known to train I...  \n"
     ]
    }
   ],
   "source": [
    "import pandas as pd\n",
    "\n",
    "# Load the dataset\n",
    "\n",
    "data = pd.read_csv(r'C:\\Users\\Gymnasiet\\floeder for python\\data-hw-bipinsebastian\\projects\\project final\\netflix_titles.csv')\n",
    "\n",
    "# Display the first few rows of the dataset\n",
    "print(data.head())\n"
   ]
  },
  {
   "cell_type": "markdown",
   "metadata": {},
   "source": [
    "Data -Listings of movies and tv shows on Netflix - Regularly Updated"
   ]
  },
  {
   "cell_type": "markdown",
   "metadata": {},
   "source": [
    "                                 TASK:2\n",
    "\n",
    "A list of at least 6 graphs you want to create from the dataset\n",
    " \n"
   ]
  },
  {
   "cell_type": "code",
   "execution_count": 42,
   "metadata": {},
   "outputs": [
    {
     "name": "stdout",
     "output_type": "stream",
     "text": [
      "   show_id     type                          title             director  \\\n",
      "7       s8    Movie                        Sankofa         Haile Gerima   \n",
      "8       s9  TV Show  The Great British Baking Show      Andy Devonshire   \n",
      "9      s10    Movie                   The Starling       Theodore Melfi   \n",
      "12     s13    Movie                   Je Suis Karl  Christian Schwochow   \n",
      "24     s25    Movie                          Jeans           S. Shankar   \n",
      "\n",
      "                                                 cast  \\\n",
      "7   Kofi Ghanaba, Oyafunmike Ogunlano, Alexandra D...   \n",
      "8   Mel Giedroyc, Sue Perkins, Mary Berry, Paul Ho...   \n",
      "9   Melissa McCarthy, Chris O'Dowd, Kevin Kline, T...   \n",
      "12  Luna Wedler, Jannis Niewöhner, Milan Peschel, ...   \n",
      "24  Prashanth, Aishwarya Rai Bachchan, Sri Lakshmi...   \n",
      "\n",
      "                                              country          date_added  \\\n",
      "7   United States, Ghana, Burkina Faso, United Kin...  September 24, 2021   \n",
      "8                                      United Kingdom  September 24, 2021   \n",
      "9                                       United States  September 24, 2021   \n",
      "12                            Germany, Czech Republic  September 23, 2021   \n",
      "24                                              India  September 21, 2021   \n",
      "\n",
      "    release_year rating   duration  \\\n",
      "7           1993  TV-MA    125 min   \n",
      "8           2021  TV-14  9 Seasons   \n",
      "9           2021  PG-13    104 min   \n",
      "12          2021  TV-MA    127 min   \n",
      "24          1998  TV-14    166 min   \n",
      "\n",
      "                                           listed_in  \\\n",
      "7   Dramas, Independent Movies, International Movies   \n",
      "8                       British TV Shows, Reality TV   \n",
      "9                                   Comedies, Dramas   \n",
      "12                      Dramas, International Movies   \n",
      "24   Comedies, International Movies, Romantic Movies   \n",
      "\n",
      "                                          description  \n",
      "7   On a photo shoot in Ghana, an American model s...  \n",
      "8   A talented batch of amateur bakers face off in...  \n",
      "9   A woman adjusting to life after a loss contend...  \n",
      "12  After most of her family is murdered in a terr...  \n",
      "24  When the father of the man she loves insists t...  \n",
      "   show_id     type                          title             director  \\\n",
      "7       s8    Movie                        Sankofa         Haile Gerima   \n",
      "8       s9  TV Show  The Great British Baking Show      Andy Devonshire   \n",
      "9      s10    Movie                   The Starling       Theodore Melfi   \n",
      "12     s13    Movie                   Je Suis Karl  Christian Schwochow   \n",
      "24     s25    Movie                          Jeans           S. Shankar   \n",
      "\n",
      "                                                 cast  \\\n",
      "7   Kofi Ghanaba, Oyafunmike Ogunlano, Alexandra D...   \n",
      "8   Mel Giedroyc, Sue Perkins, Mary Berry, Paul Ho...   \n",
      "9   Melissa McCarthy, Chris O'Dowd, Kevin Kline, T...   \n",
      "12  Luna Wedler, Jannis Niewöhner, Milan Peschel, ...   \n",
      "24  Prashanth, Aishwarya Rai Bachchan, Sri Lakshmi...   \n",
      "\n",
      "                                              country          date_added  \\\n",
      "7   United States, Ghana, Burkina Faso, United Kin...  September 24, 2021   \n",
      "8                                      United Kingdom  September 24, 2021   \n",
      "9                                       United States  September 24, 2021   \n",
      "12                            Germany, Czech Republic  September 23, 2021   \n",
      "24                                              India  September 21, 2021   \n",
      "\n",
      "    release_year rating   duration  \\\n",
      "7           1993  TV-MA    125 min   \n",
      "8           2021  TV-14  9 Seasons   \n",
      "9           2021  PG-13    104 min   \n",
      "12          2021  TV-MA    127 min   \n",
      "24          1998  TV-14    166 min   \n",
      "\n",
      "                                           listed_in  \\\n",
      "7   Dramas, Independent Movies, International Movies   \n",
      "8                       British TV Shows, Reality TV   \n",
      "9                                   Comedies, Dramas   \n",
      "12                      Dramas, International Movies   \n",
      "24   Comedies, International Movies, Romantic Movies   \n",
      "\n",
      "                                          description  \n",
      "7   On a photo shoot in Ghana, an American model s...  \n",
      "8   A talented batch of amateur bakers face off in...  \n",
      "9   A woman adjusting to life after a loss contend...  \n",
      "12  After most of her family is murdered in a terr...  \n",
      "24  When the father of the man she loves insists t...  \n"
     ]
    }
   ],
   "source": [
    "import pandas as pd\n",
    "import matplotlib.pyplot as plt\n",
    "import seaborn as sns\n",
    "\n",
    "\n",
    "# Load your dataset\n",
    "\n",
    "netflix_data = data\n",
    "\n",
    "# Basic cleanup and preview of data\n",
    "netflix_data.dropna(inplace=True)\n",
    "print(netflix_data.head())\n",
    "\n",
    "\n",
    "\n",
    "# Basic cleanup and preview of data\n",
    "netflix_data.dropna(inplace=True)\n",
    "print(netflix_data.head())\n"
   ]
  },
  {
   "cell_type": "code",
   "execution_count": 43,
   "metadata": {},
   "outputs": [
    {
     "name": "stdout",
     "output_type": "stream",
     "text": [
      "Index(['show_id', 'type', 'title', 'director', 'cast', 'country', 'date_added',\n",
      "       'release_year', 'rating', 'duration', 'listed_in', 'description'],\n",
      "      dtype='object')\n"
     ]
    }
   ],
   "source": [
    "\n",
    "# Display the column names\n",
    "print(netflix_data.columns)"
   ]
  },
  {
   "cell_type": "markdown",
   "metadata": {},
   "source": [
    "1. Line Graph of Content Releases Over Time"
   ]
  },
  {
   "cell_type": "code",
   "execution_count": 44,
   "metadata": {},
   "outputs": [
    {
     "data": {
      "image/png": "[encoded data removed]",
      "text/plain": [
       "<Figure size 1200x600 with 1 Axes>"
      ]
     },
     "metadata": {},
     "output_type": "display_data"
    }
   ],
   "source": [
    "# Content releases by year\n",
    "plt.figure(figsize=(12,6))\n",
    "release_counts = netflix_data['release_year'].value_counts().sort_index()\n",
    "sns.lineplot(x=release_counts.index, y=release_counts.values, marker='o')\n",
    "plt.title('Number of Releases Over Time')\n",
    "plt.xlabel('Release Year')\n",
    "plt.ylabel('Number of Titles')\n",
    "plt.show()\n"
   ]
  },
  {
   "cell_type": "markdown",
   "metadata": {},
   "source": [
    "2.Top 10 directors with the most titles-Top 10 Directors/Actors Bar Chart"
   ]
  },
  {
   "cell_type": "code",
   "execution_count": 45,
   "metadata": {},
   "outputs": [
    {
     "name": "stderr",
     "output_type": "stream",
     "text": [
      "C:\\Users\\Gymnasiet\\AppData\\Local\\Temp\\ipykernel_28452\\1264049175.py:4: FutureWarning:\n",
      "\n",
      "\n",
      "\n",
      "Passing `palette` without assigning `hue` is deprecated and will be removed in v0.14.0. Assign the `y` variable to `hue` and set `legend=False` for the same effect.\n",
      "\n",
      "\n"
     ]
    },
    {
     "data": {
      "image/png": "[encoded data removed]",
      "text/plain": [
       "<Figure size 1000x600 with 1 Axes>"
      ]
     },
     "metadata": {},
     "output_type": "display_data"
    }
   ],
   "source": [
    "# Top 10 directors with the most titles\n",
    "plt.figure(figsize=(10,6))\n",
    "top_directors = netflix_data['director'].value_counts().head(10)\n",
    "sns.barplot(x=top_directors.values, y=top_directors.index, palette='cool')\n",
    "plt.title('Top 10 Directors on Netflix')\n",
    "plt.xlabel('Number of Titles')\n",
    "plt.ylabel('Director')\n",
    "plt.show()\n"
   ]
  },
  {
   "cell_type": "markdown",
   "metadata": {},
   "source": [
    "3.pie chart -Distribution of content by country (Top 5 countries)"
   ]
  },
  {
   "cell_type": "code",
   "execution_count": 46,
   "metadata": {},
   "outputs": [
    {
     "data": {
      "image/png": "[encoded data removed]",
      "text/plain": [
       "<Figure size 800x800 with 1 Axes>"
      ]
     },
     "metadata": {},
     "output_type": "display_data"
    }
   ],
   "source": [
    "# Distribution of content by country (Top 5 countries)\n",
    "plt.figure(figsize=(8,8))\n",
    "country_counts = netflix_data['country'].value_counts().head(5)\n",
    "plt.pie(country_counts, labels=country_counts.index, autopct='%1.1f%%', startangle=140, colors=sns.color_palette('pastel'))\n",
    "plt.title('Content Distribution by Country (Top 5)')\n",
    "plt.show()\n"
   ]
  },
  {
   "cell_type": "markdown",
   "metadata": {},
   "source": [
    "4.Histogram of movie duration"
   ]
  },
  {
   "cell_type": "code",
   "execution_count": 47,
   "metadata": {},
   "outputs": [
    {
     "data": {
      "image/png": "[encoded data removed]",
      "text/plain": [
       "<Figure size 1000x600 with 1 Axes>"
      ]
     },
     "metadata": {},
     "output_type": "display_data"
    }
   ],
   "source": [
    "# Histogram of movie duration\n",
    "plt.figure(figsize=(10,6))\n",
    "netflix_movies = netflix_data[netflix_data['type'] == 'Movie']  # Filter for movies\n",
    "sns.histplot(netflix_movies['duration'], bins=30, kde=True, color='purple')\n",
    "plt.title('Distribution of Movie Durations')\n",
    "plt.xlabel('Duration (minutes)')\n",
    "plt.ylabel('Frequency')\n",
    "plt.show()\n"
   ]
  },
  {
   "cell_type": "markdown",
   "metadata": {},
   "source": [
    "5.Basic map to show content distribution by country"
   ]
  },
  {
   "cell_type": "code",
   "execution_count": 48,
   "metadata": {},
   "outputs": [
    {
     "data": {
      "application/vnd.plotly.v1+json": {
       "config": {
        "plotlyServerURL": "https://plot.ly"
       },
       "data": [
        {
         "coloraxis": "coloraxis",
         "geo": "geo",
         "hovertemplate": "country=%{location}<br>count=%{z}<extra></extra>",
         "locationmode": "country names",
         "locations": [
          "United States",
          "India",
          "United Kingdom",
          "Canada",
          "Spain",
          "Egypt",
          "Nigeria",
          "Japan",
          "Turkey",
          "Indonesia",
          "Philippines",
          "France",
          "Mexico",
          "United Kingdom, United States",
          "United States, Canada",
          "Hong Kong",
          "South Korea",
          "Brazil",
          "Germany",
          "Thailand",
          "Argentina",
          "United States, United Kingdom",
          "Australia",
          "China",
          "Canada, United States",
          "Italy",
          "France, Belgium",
          "South Africa",
          "Taiwan",
          "Poland",
          "Hong Kong, China",
          "Malaysia",
          "United States, Germany",
          "Pakistan",
          "Netherlands",
          "China, Hong Kong",
          "United States, France",
          "United Arab Emirates",
          "Germany, United States",
          "Colombia",
          "Chile",
          "India, United States",
          "New Zealand",
          "United States, Australia",
          "Lebanon",
          "United States, China",
          "Japan, United States",
          "Australia, United States",
          "United States, India",
          "Mexico, United States",
          "Vietnam",
          "Argentina, Spain",
          "Denmark",
          "Singapore",
          "United States, Mexico",
          "Saudi Arabia",
          "United States, Japan",
          "France, United States",
          "Romania",
          "Ireland",
          "United Kingdom, Canada, United States",
          "United Kingdom, France",
          "India, France",
          "Norway",
          "Spain, France",
          "Sweden",
          "Hong Kong, United States",
          "South Africa, United States",
          "United States, Bulgaria",
          "Kuwait",
          "Israel",
          "Hungary",
          "United Kingdom, France, United States",
          "Mexico, Spain",
          "Italy, France",
          "United States, United Kingdom, France",
          "Austria",
          "France, Egypt",
          "Ghana",
          "Italy, United States",
          "China, Canada, United States",
          "United States, South Africa",
          "United States, United Kingdom, Australia",
          "United States, United Arab Emirates",
          "United States, Ireland",
          "United States, Spain",
          "United Kingdom, Japan, United States",
          "United Kingdom, United States, Australia",
          "Bangladesh",
          "Spain, Argentina",
          "Belgium, France",
          "Spain, Germany",
          "United States, Italy",
          "Bulgaria, United States",
          "Canada, United States, United Kingdom",
          "Kenya",
          "United States, Russia",
          "United States, Germany, Canada",
          "South Korea, United States",
          "United States, Hong Kong",
          "United Kingdom, Germany",
          "Israel, United States",
          "Peru",
          "New Zealand, United States",
          "United States, Czech Republic",
          "United Arab Emirates, United States",
          "United States, Greece",
          "United States, Sweden",
          "United States, New Zealand",
          "United Kingdom, Belgium",
          "Germany, United Kingdom",
          "Canada, India",
          "United Kingdom, India",
          "Norway, Iceland, United States",
          "Spain, Mexico",
          "India, United Kingdom",
          "United Kingdom, Germany, United States",
          "Uruguay",
          "United Kingdom, Italy",
          "United States, Chile",
          "India, Germany",
          "United States, France, Japan",
          "China, Taiwan",
          "Indonesia, Singapore",
          "Hong Kong, China, United States",
          "Australia, United Arab Emirates",
          "United Kingdom, Canada",
          "India, Soviet Union",
          "United States, Thailand",
          "Canada, United Kingdom, United States",
          "Portugal, Spain",
          "Canada, South Africa",
          "United States, South Korea",
          "United Kingdom, Nigeria",
          "Iceland",
          "Egypt, France",
          "Brazil, France",
          "France, Canada",
          "United Kingdom, France, Germany, United States",
          "Serbia, United States",
          "Turkey, United States",
          "Argentina, Chile",
          "United Kingdom, Ireland",
          "Russia",
          "United Kingdom, United States, France",
          "China, United States",
          "United States, Nigeria",
          "United States, China, Hong Kong",
          "United States, United Kingdom, Canada",
          "United Arab Emirates, Jordan",
          "United States, Italy, France, Japan",
          "United States, Italy, Romania, United Kingdom",
          "Argentina, Venezuela",
          "Israel, Germany",
          "Mexico, France",
          "Israel, Germany, Poland, Luxembourg, Belgium, France, United States",
          "Switzerland, Vatican City, Italy, Germany, France",
          "Portugal, France, Poland, United States",
          "India, Switzerland",
          "Switzerland, France",
          "Chile, Argentina, France, Spain, United States",
          "United States, India, South Korea, China",
          "Denmark, Germany, Belgium, United Kingdom, France",
          "Denmark, Germany, Belgium, United Kingdom, France, Sweden",
          "Lebanon, United Arab Emirates",
          "Canada, United States, Denmark",
          "Mexico, France, Colombia",
          "United States, France, Italy, United Kingdom",
          "United States, United Kingdom, Germany, Hungary",
          "Lebanon, Syria",
          "United Kingdom, Australia, United States",
          "France, Japan, United States",
          "Canada, France, United States",
          "Switzerland, United States",
          "Thailand, Canada, United States",
          "China, Hong Kong, United States",
          "United Kingdom, New Zealand",
          "Czech Republic, United Kingdom, France",
          "Philippines, Singapore, Indonesia",
          "China, United States, Canada",
          "China, Morocco, Hong Kong",
          "Canada, United States, Germany",
          "United Kingdom, Thailand",
          "France, Germany, Czech Republic, Belgium",
          "Argentina, France, United States, Germany, Qatar",
          "United States, Germany, United Kingdom",
          "United States, Germany, United Kingdom, Australia",
          "Italy, France, Switzerland",
          "United States, Malta, France, United Kingdom",
          "United States, China, Canada",
          "Spain, France, Canada",
          "United States, China, Colombia",
          "Spain, Thailand, United States",
          "United Kingdom, Germany, France, United States",
          "France, Algeria",
          "Philippines, Canada, United Kingdom, United States",
          "Turkey, South Korea",
          "Ireland, Luxembourg, Belgium",
          "Canada, Belgium",
          "Canada, United Kingdom",
          "Lebanon, United Arab Emirates, France, Switzerland, Germany",
          "France, Belgium, Italy",
          "Lebanon, United States, United Arab Emirates",
          "Lebanon, France",
          "United States, India, United Kingdom",
          "France, Lebanon",
          "France, Lebanon, United Kingdom",
          "France, Norway, Lebanon, Belgium",
          "Lebanon, Canada, France",
          "Sweden, Czech Republic, United Kingdom, Denmark, Netherlands",
          "United States, United Kingdom, India",
          "Indonesia, Netherlands",
          "Switzerland, United Kingdom, Australia",
          "Chile, Brazil",
          "United States, Cambodia, Romania",
          "China, United Kingdom",
          "United Kingdom, South Africa, France",
          "Ireland, United Kingdom, France, Germany",
          "Russia, United States",
          "United Kingdom,",
          "Spain, Belgium, United States",
          "Portugal, United States",
          "United Kingdom, Spain, United States",
          "India, United Kingdom, France, Qatar",
          "Peru, Germany, Norway",
          "Namibia",
          "United Kingdom, Kenya",
          "United Kingdom, France, United States, Belgium, Luxembourg, China, Germany",
          "United Kingdom, France, Spain, United States",
          "Germany, United States, France",
          "Syria, France, Lebanon, Qatar",
          "Belgium, Netherlands",
          "Mauritius",
          "Hungary, United States",
          "Canada, United States, Cayman Islands",
          "Canada, Hungary, United States",
          "Belgium",
          "Indonesia, United Kingdom",
          "United States, Belgium, Canada, France",
          "South Africa, Angola",
          "United States, Philippines",
          "United States, United Kingdom, Canada, China",
          "United States, Canada, United Kingdom",
          "Germany, France",
          "Ireland, France, Iceland, United States, Mexico, Belgium, United Kingdom, Hong Kong",
          "United States, France, Serbia",
          "Switzerland, France, Belgium, United States",
          "France, Brazil, Spain, Belgium",
          "Egypt, Algeria",
          "Mozambique",
          "China, Spain, South Korea, United States",
          "France, Belgium, Luxembourg, Cambodia,",
          "Nigeria, United Kingdom",
          "United Arab Emirates, Jordan, Lebanon, Saudi Arabia",
          "Saudi Arabia, United Arab Emirates",
          "Zimbabwe",
          "United Kingdom, Germany, United Arab Emirates, New Zealand",
          "Romania, United States",
          "United Kingdom, Hungary, Australia",
          "Italy, Belgium",
          "Canada, Nigeria",
          "Saudi Arabia, Netherlands, Germany, Jordan, United Arab Emirates, United States",
          "United Kingdom, Germany, United States, France",
          "India, United Kingdom, China, Canada, Japan, South Korea, United States",
          "Turkey, India",
          "Italy, Turkey",
          "United Kingdom, United States, Japan",
          "Canada, South Korea, United States",
          "Kenya, United States",
          "France, South Korea, Japan, United States",
          "France, Belgium, United States",
          "Uruguay, Argentina",
          "United States, United Kingdom, Japan",
          "Ireland, United Kingdom",
          "United Kingdom, France, Belgium, Canada, United States",
          "Netherlands, Germany, Denmark, United Kingdom",
          "United States, France, Canada, Belgium",
          "Germany, China, United Kingdom",
          "Hong Kong, Iceland, United States",
          "Romania, France, Switzerland, Germany",
          "France, Malta, United States",
          "United Kingdom, France, Belgium, Ireland, United States",
          "United States, Norway, Canada",
          "Poland, United States",
          "Canada, Germany, France, United States",
          "United Kingdom, Japan",
          "Norway, Denmark, Netherlands, Sweden",
          "United Arab Emirates, United Kingdom, India",
          "Netherlands, Belgium",
          "United States, Taiwan",
          "United Kingdom, Malawi",
          "Paraguay, Argentina",
          "Uruguay, Argentina, Germany, Spain",
          "United States, United Kingdom, France, Germany, Japan",
          "Spain, France, United States",
          "Indonesia, South Korea, Singapore",
          "Spain, Belgium",
          "Iceland, Sweden, Belgium",
          "Uruguay, Argentina, Spain",
          "United Kingdom, Ireland, United States",
          "United States, South Korea, Japan",
          "Argentina, Uruguay, Serbia",
          "France, Japan",
          "United Kingdom, United States, Germany, Denmark, Belgium, Japan",
          "India, United Kingdom, Canada, United States",
          "Philippines, United States",
          "Romania, Bulgaria, Hungary",
          "Taiwan, Malaysia",
          "Switzerland",
          "Singapore, Malaysia",
          "France, Belgium, Luxembourg, Romania, Canada, United States",
          "South Africa, Nigeria",
          "Uruguay, Guatemala",
          "France, Senegal, Belgium",
          "Canada, Norway",
          "Spain, United Kingdom",
          "Ghana, United States",
          "Mexico, Finland",
          "Denmark, Brazil, France, Portugal, Sweden",
          "India, Turkey",
          "Philippines, Singapore",
          "Taiwan, China, France, United States",
          "Colombia, Peru, United Kingdom",
          "Thailand, China, United States",
          "United Kingdom, France, Poland, Germany, United States",
          "Ireland, Switzerland, United Kingdom, France, United States",
          "United States, United Kingdom, New Zealand",
          "Canada, Nigeria, United States",
          "France, United States, United Kingdom, Canada",
          "Canada, United States, Mexico",
          "Mexico, Brazil",
          "Pakistan, United Arab Emirates",
          "Hong Kong, Canada, United States",
          "Kuwait, United States",
          "France, Canada, United States, Spain",
          "France, Netherlands, Singapore",
          "South Korea, Czech Republic",
          "Czech Republic, United Kingdom, United States",
          "Cameroon",
          "Egypt, Saudi Arabia",
          "United Kingdom, Russia, United States",
          "India, Pakistan",
          "France, Luxembourg, Canada",
          "Chile, Argentina",
          "Canada, Germany",
          "United Kingdom, Germany, Spain, United States",
          "United Kingdom, United States, France, Italy",
          "United States, Switzerland",
          "Italy, Switzerland, France, Germany",
          "Mexico, Netherlands",
          "France, Iran, United States",
          "Russia, Poland, Serbia",
          "Spain, Portugal",
          "United Kingdom, Italy, Israel, Peru, United States",
          "Argentina, Uruguay, Spain, France",
          "United Kingdom, France, United States, Belgium",
          "Mexico, Argentina",
          "United Kingdom, Canada, United States, Cayman Islands",
          "Indonesia, United States",
          "United States, Israel, United Kingdom, Canada",
          "United Kingdom, India, United States",
          "India, Australia",
          "Belgium, United Kingdom, United States",
          "Ireland, Canada",
          "United States, Canada, Indonesia, United Kingdom, China, Singapore",
          "India, Germany, Austria",
          "China, Japan",
          "Argentina, France",
          "China, United States, United Kingdom",
          "France, Luxembourg, United States",
          "China, United States, Australia",
          "Colombia, Mexico",
          "Argentina, United States",
          "Uruguay, Spain, Mexico",
          "United States, Canada, Ireland",
          "Chile, Peru",
          "Canada, Japan, United States",
          "United Kingdom, Canada, United States, Germany",
          "Italy, Switzerland, Albania, Poland",
          "Cambodia",
          "New Zealand, United Kingdom",
          "Netherlands, Denmark, South Africa",
          "Iran, France",
          "United Kingdom, United States, France, Germany",
          "Australia, France",
          "Ireland, United Kingdom, United States",
          "Spain, Italy",
          "Belgium, France, Netherlands",
          "Georgia, Germany, France",
          "Spain, Colombia",
          "Bulgaria",
          "Argentina, Brazil, France, Poland, Germany, Denmark",
          "United Kingdom, Spain, United States, Germany",
          "Philippines, Qatar",
          "Netherlands, Belgium, Germany, Jordan",
          "Denmark, France, Poland",
          "Turkey, France, Germany, Poland",
          "Norway, Germany",
          "France, Morocco",
          "Cambodia, United States",
          "Soviet Union, India",
          "Czech Republic, United States",
          "South Korea, China, United States",
          "India, Mexico",
          "France, Canada, China, Cambodia",
          "United Kingdom, France, Belgium, United States",
          "Chile, France",
          "France, United Kingdom, India",
          "United Arab Emirates, Romania",
          "Australia, Canada",
          "India, Malaysia",
          "Germany, Jordan, Netherlands",
          "Germany, France, Luxembourg, United Kingdom, United States",
          "United Kingdom, Canada, Italy",
          "Taiwan, Hong Kong, United States, China",
          "Germany, Australia",
          "United Kingdom, Poland, United States",
          "United Kingdom, South Africa",
          "United Kingdom, Pakistan",
          "United Kingdom, Czech Republic, United States, Germany, Bahamas",
          "Spain, Switzerland",
          "South Africa, United States, Germany",
          "Spain, Italy, Argentina",
          "Chile, Spain, Argentina, Germany",
          "Austria, Czech Republic",
          "Lebanon, Qatar",
          "Germany, United States, Hong Kong, Singapore",
          "France, Germany, Switzerland",
          "Israel, Germany, France",
          "United States, Hungary",
          "France, Qatar",
          "United Kingdom, Germany, Canada",
          "Ireland, South Africa",
          "Chile, United States, France",
          "Czech Republic, Slovakia",
          "Singapore, France",
          "United States, Bermuda, Ecuador",
          "United Kingdom, Egypt, United States",
          "United States, France, United Kingdom",
          "Spain, Mexico, France",
          "Hong Kong, China, Singapore",
          "South Africa, China, United States",
          "United Kingdom, Jordan, Qatar, Iran",
          "France, South Korea, Japan",
          "United States, Canada, Germany",
          "Ireland, United States",
          "United States, France, Mexico",
          "United States, Nicaragua",
          "France, United Kingdom, United States",
          "United Kingdom, United States, Spain, Germany, Greece, Canada",
          "Italy, Canada, France",
          "Thailand, United States",
          "Bulgaria, United States, Spain, Canada",
          "Sweden, Netherlands",
          "France, United States, Mexico",
          "Australia, United Kingdom, United Arab Emirates, Canada",
          "United States, United Kingdom, Denmark, Sweden",
          "United States, United Kingdom, Italy",
          "United States, France, Canada, Spain",
          "Russia, United States, China",
          "United States, Iceland",
          "United Kingdom, Russia",
          "United States, Israel, Italy, South Africa",
          "South Korea, Japan",
          "United Kingdom, France, Germany",
          "Canada, Luxembourg",
          "Brazil, Netherlands, United States, Colombia, Austria, Germany",
          "France, Canada, Belgium",
          "Germany, Sri Lanka",
          "United States, India, Bangladesh",
          "United States, Canada, France",
          "Brazil, France, Germany",
          "Singapore, United States",
          "India, Iran",
          "France, Belgium, Spain",
          "Denmark, Sweden, Israel, United States",
          "Israel, Sweden, Germany, Netherlands",
          "United Kingdom, Norway, Denmark, Germany, Sweden",
          "Norway, Denmark, Sweden",
          "China, India, Nepal",
          "Colombia, Mexico, United States",
          "United Kingdom, South Korea",
          "United States, Greece, Brazil",
          "Argentina, Chile, Peru",
          "France, China, Japan, United States",
          "Germany, Belgium",
          "Poland, West Germany",
          "Canada, Spain",
          "United States, Cambodia",
          "Norway, United Kingdom, France, Ireland",
          "United Kingdom, Poland",
          "Pakistan, United States",
          "United Arab Emirates, United States, United Kingdom",
          "United States, Brazil",
          "Finland, Sweden, Norway, Latvia, Germany",
          "South Africa, United States, New Zealand, Canada",
          "United States, Italy, United Kingdom, Liechtenstein",
          "Denmark, France, Belgium, Italy, Netherlands, United States, United Kingdom",
          "United States, Australia, Mexico",
          "United Kingdom, Czech Republic, Germany, United States",
          "United Kingdom, Denmark, Canada, Croatia",
          "United States, France, United Kingdom, Japan",
          "Pakistan, Norway, United States",
          "United States, Canada, Belgium, United Kingdom",
          "Venezuela",
          "Canada, Spain, France",
          "United States, Indonesia",
          "Spain, France, Italy",
          "United States, Morocco",
          "Singapore, Japan, France",
          "Canada, Mexico, Germany, South Africa",
          "United Kingdom, United States, Canada",
          "Germany, France, United States, Canada, United Kingdom",
          "India, Canada",
          "Ireland, Canada, United Kingdom, United States",
          "Australia, Iraq",
          "United States, Germany, Australia",
          "Australia, France, Ireland",
          "Australia, India",
          "United States, United Kingdom, Canada, Japan",
          "Sweden, United Kingdom, Finland",
          "Hong Kong, Taiwan",
          "United States, United Kingdom, Spain, South Korea",
          "Guatemala",
          "Poland,",
          "Slovenia, Croatia, Germany, Czech Republic, Qatar",
          "United States, Spain, Germany",
          "India, Japan",
          "United Kingdom, France, Belgium",
          "Canada, Ireland, United States",
          "United Kingdom, United States, Dominican Republic",
          "Germany, United Kingdom, United States",
          "South Africa, Germany, Netherlands, France",
          "Ireland, United States, France",
          "Germany, United States, Canada",
          "United Kingdom, Germany, Canada, United States",
          "United States, France, Canada, Lebanon, Qatar",
          "Netherlands, Belgium, United Kingdom, United States",
          "France, Belgium, China, United States",
          "United States, Chile, Israel",
          "South Africa, United States, Japan",
          "United States, India, France",
          "Germany, Czech Republic",
          "United States, Ghana, Burkina Faso, United Kingdom, Germany, Ethiopia",
          "India, Nepal",
          "New Zealand, Australia, France, United States",
          "Italy, Brazil, Greece",
          "Austria, United States",
          "Canada, United States, India, United Kingdom",
          "Switzerland, United Kingdom, United States",
          "United States, Australia, South Africa, United Kingdom",
          "United States, Germany, Mexico",
          "Somalia, Kenya, Sudan, South Africa, United States",
          "United Kingdom, Australia, France, United States",
          "United Kingdom, Australia, France",
          "Spain, United States",
          "Egypt, Austria, United States",
          "Croatia, Slovenia, Serbia, Montenegro",
          "Denmark, United Kingdom, South Africa, Sweden, Belgium",
          "Germany, Canada, United States",
          "New Zealand, United Kingdom, Australia",
          "United Kingdom, Australia, Canada, United States",
          "United Kingdom, China, United States",
          "United Kingdom, Brazil, Germany",
          "France, Switzerland, Spain, United States, United Arab Emirates",
          "Brazil, India, China, United States",
          "Denmark, France, United States, Sweden",
          "United States, United Kingdom, Germany",
          "United Kingdom, India, Sweden",
          "United States, Argentina",
          "Germany, United States, United Kingdom, Canada",
          "United States, East Germany, West Germany",
          "United Kingdom, Canada, France, United States",
          "Belgium, Ireland, Netherlands, Germany, Afghanistan",
          "France, Canada, Italy, United States, China",
          "Ireland, United Kingdom, Greece, France, Netherlands",
          "France, Israel, Germany, United States, United Kingdom",
          "Spain, United Kingdom, United States",
          "Spain, France, United Kingdom, United States",
          ", France, Algeria",
          "Denmark, United Kingdom, Sweden",
          "United States, Canada, Japan, Panama",
          "United Kingdom, Spain, Belgium",
          "Serbia, South Korea, Slovenia",
          "United Kingdom, United States, Morocco",
          "United States, United Kingdom, Morocco",
          "Spain, Canada, United States",
          "United States, India, United Arab Emirates",
          "France, Canada, United States",
          "United States, Canada, China",
          "Ireland, Canada, Luxembourg, United States, United Kingdom, Philippines, India",
          "United States, Czech Republic, United Kingdom",
          "Australia, United Kingdom, Canada",
          "Jamaica, United States",
          "Australia, United Kingdom",
          "United Kingdom, France, Canada, Belgium, United States",
          "United Kingdom, Lithuania",
          "United States, Greece, United Kingdom",
          "United Kingdom, China, United States, India",
          "United States, Sweden, Norway",
          "United States, Germany, United Kingdom, Italy",
          "United States, New Zealand, United Kingdom",
          "Finland, United States",
          "Spain, France, Uruguay"
         ],
         "name": "",
         "type": "choropleth",
         "z": [
          1846,
          875,
          183,
          107,
          91,
          90,
          88,
          83,
          79,
          76,
          74,
          73,
          64,
          59,
          52,
          49,
          48,
          46,
          41,
          41,
          35,
          35,
          35,
          29,
          29,
          29,
          24,
          23,
          19,
          19,
          16,
          16,
          16,
          15,
          14,
          13,
          13,
          12,
          12,
          12,
          11,
          10,
          10,
          10,
          9,
          8,
          8,
          8,
          8,
          7,
          7,
          7,
          7,
          6,
          6,
          6,
          6,
          6,
          6,
          6,
          5,
          5,
          5,
          5,
          5,
          5,
          4,
          4,
          4,
          4,
          4,
          4,
          4,
          4,
          4,
          4,
          4,
          3,
          3,
          3,
          3,
          3,
          3,
          3,
          3,
          3,
          3,
          3,
          3,
          3,
          3,
          3,
          3,
          3,
          3,
          3,
          3,
          3,
          3,
          3,
          3,
          3,
          3,
          2,
          2,
          2,
          2,
          2,
          2,
          2,
          2,
          2,
          2,
          2,
          2,
          2,
          2,
          2,
          2,
          2,
          2,
          2,
          2,
          2,
          2,
          2,
          2,
          2,
          2,
          2,
          2,
          2,
          2,
          2,
          2,
          2,
          2,
          2,
          2,
          2,
          2,
          2,
          2,
          2,
          2,
          2,
          2,
          2,
          2,
          1,
          1,
          1,
          1,
          1,
          1,
          1,
          1,
          1,
          1,
          1,
          1,
          1,
          1,
          1,
          1,
          1,
          1,
          1,
          1,
          1,
          1,
          1,
          1,
          1,
          1,
          1,
          1,
          1,
          1,
          1,
          1,
          1,
          1,
          1,
          1,
          1,
          1,
          1,
          1,
          1,
          1,
          1,
          1,
          1,
          1,
          1,
          1,
          1,
          1,
          1,
          1,
          1,
          1,
          1,
          1,
          1,
          1,
          1,
          1,
          1,
          1,
          1,
          1,
          1,
          1,
          1,
          1,
          1,
          1,
          1,
          1,
          1,
          1,
          1,
          1,
          1,
          1,
          1,
          1,
          1,
          1,
          1,
          1,
          1,
          1,
          1,
          1,
          1,
          1,
          1,
          1,
          1,
          1,
          1,
          1,
          1,
          1,
          1,
          1,
          1,
          1,
          1,
          1,
          1,
          1,
          1,
          1,
          1,
          1,
          1,
          1,
          1,
          1,
          1,
          1,
          1,
          1,
          1,
          1,
          1,
          1,
          1,
          1,
          1,
          1,
          1,
          1,
          1,
          1,
          1,
          1,
          1,
          1,
          1,
          1,
          1,
          1,
          1,
          1,
          1,
          1,
          1,
          1,
          1,
          1,
          1,
          1,
          1,
          1,
          1,
          1,
          1,
          1,
          1,
          1,
          1,
          1,
          1,
          1,
          1,
          1,
          1,
          1,
          1,
          1,
          1,
          1,
          1,
          1,
          1,
          1,
          1,
          1,
          1,
          1,
          1,
          1,
          1,
          1,
          1,
          1,
          1,
          1,
          1,
          1,
          1,
          1,
          1,
          1,
          1,
          1,
          1,
          1,
          1,
          1,
          1,
          1,
          1,
          1,
          1,
          1,
          1,
          1,
          1,
          1,
          1,
          1,
          1,
          1,
          1,
          1,
          1,
          1,
          1,
          1,
          1,
          1,
          1,
          1,
          1,
          1,
          1,
          1,
          1,
          1,
          1,
          1,
          1,
          1,
          1,
          1,
          1,
          1,
          1,
          1,
          1,
          1,
          1,
          1,
          1,
          1,
          1,
          1,
          1,
          1,
          1,
          1,
          1,
          1,
          1,
          1,
          1,
          1,
          1,
          1,
          1,
          1,
          1,
          1,
          1,
          1,
          1,
          1,
          1,
          1,
          1,
          1,
          1,
          1,
          1,
          1,
          1,
          1,
          1,
          1,
          1,
          1,
          1,
          1,
          1,
          1,
          1,
          1,
          1,
          1,
          1,
          1,
          1,
          1,
          1,
          1,
          1,
          1,
          1,
          1,
          1,
          1,
          1,
          1,
          1,
          1,
          1,
          1,
          1,
          1,
          1,
          1,
          1,
          1,
          1,
          1,
          1,
          1,
          1,
          1,
          1,
          1,
          1,
          1,
          1,
          1,
          1,
          1,
          1,
          1,
          1,
          1,
          1,
          1,
          1,
          1,
          1,
          1,
          1,
          1,
          1,
          1,
          1,
          1,
          1,
          1,
          1,
          1,
          1,
          1,
          1,
          1,
          1,
          1,
          1,
          1,
          1,
          1,
          1,
          1,
          1,
          1,
          1,
          1,
          1,
          1,
          1,
          1,
          1,
          1,
          1,
          1,
          1,
          1,
          1,
          1,
          1,
          1,
          1,
          1,
          1,
          1,
          1,
          1,
          1,
          1,
          1,
          1,
          1,
          1,
          1,
          1,
          1,
          1,
          1,
          1,
          1,
          1,
          1,
          1,
          1,
          1,
          1,
          1,
          1,
          1,
          1,
          1,
          1,
          1,
          1,
          1,
          1,
          1,
          1,
          1,
          1,
          1,
          1,
          1,
          1,
          1,
          1,
          1,
          1,
          1,
          1,
          1,
          1,
          1,
          1,
          1,
          1,
          1,
          1,
          1,
          1,
          1,
          1,
          1,
          1,
          1,
          1,
          1,
          1,
          1,
          1,
          1,
          1,
          1,
          1,
          1,
          1,
          1,
          1,
          1,
          1,
          1,
          1
         ]
        }
       ],
       "layout": {
        "coloraxis": {
         "colorbar": {
          "title": {
           "text": "count"
          }
         },
         "colorscale": [
          [
           0,
           "#440154"
          ],
          [
           0.1111111111111111,
           "#482878"
          ],
          [
           0.2222222222222222,
           "#3e4989"
          ],
          [
           0.3333333333333333,
           "#31688e"
          ],
          [
           0.4444444444444444,
           "#26828e"
          ],
          [
           0.5555555555555556,
           "#1f9e89"
          ],
          [
           0.6666666666666666,
           "#35b779"
          ],
          [
           0.7777777777777778,
           "#6ece58"
          ],
          [
           0.8888888888888888,
           "#b5de2b"
          ],
          [
           1,
           "#fde725"
          ]
         ]
        },
        "geo": {
         "center": {},
         "domain": {
          "x": [
           0,
           1
          ],
          "y": [
           0,
           1
          ]
         }
        },
        "legend": {
         "tracegroupgap": 0
        },
        "template": {
         "data": {
          "bar": [
           {
            "error_x": {
             "color": "#2a3f5f"
            },
            "error_y": {
             "color": "#2a3f5f"
            },
            "marker": {
             "line": {
              "color": "#E5ECF6",
              "width": 0.5
             },
             "pattern": {
              "fillmode": "overlay",
              "size": 10,
              "solidity": 0.2
             }
            },
            "type": "bar"
           }
          ],
          "barpolar": [
           {
            "marker": {
             "line": {
              "color": "#E5ECF6",
              "width": 0.5
             },
             "pattern": {
              "fillmode": "overlay",
              "size": 10,
              "solidity": 0.2
             }
            },
            "type": "barpolar"
           }
          ],
          "carpet": [
           {
            "aaxis": {
             "endlinecolor": "#2a3f5f",
             "gridcolor": "white",
             "linecolor": "white",
             "minorgridcolor": "white",
             "startlinecolor": "#2a3f5f"
            },
            "baxis": {
             "endlinecolor": "#2a3f5f",
             "gridcolor": "white",
             "linecolor": "white",
             "minorgridcolor": "white",
             "startlinecolor": "#2a3f5f"
            },
            "type": "carpet"
           }
          ],
          "choropleth": [
           {
            "colorbar": {
             "outlinewidth": 0,
             "ticks": ""
            },
            "type": "choropleth"
           }
          ],
          "contour": [
           {
            "colorbar": {
             "outlinewidth": 0,
             "ticks": ""
            },
            "colorscale": [
             [
              0,
              "#0d0887"
             ],
             [
              0.1111111111111111,
              "#46039f"
             ],
             [
              0.2222222222222222,
              "#7201a8"
             ],
             [
              0.3333333333333333,
              "#9c179e"
             ],
             [
              0.4444444444444444,
              "#bd3786"
             ],
             [
              0.5555555555555556,
              "#d8576b"
             ],
             [
              0.6666666666666666,
              "#ed7953"
             ],
             [
              0.7777777777777778,
              "#fb9f3a"
             ],
             [
              0.8888888888888888,
              "#fdca26"
             ],
             [
              1,
              "#f0f921"
             ]
            ],
            "type": "contour"
           }
          ],
          "contourcarpet": [
           {
            "colorbar": {
             "outlinewidth": 0,
             "ticks": ""
            },
            "type": "contourcarpet"
           }
          ],
          "heatmap": [
           {
            "colorbar": {
             "outlinewidth": 0,
             "ticks": ""
            },
            "colorscale": [
             [
              0,
              "#0d0887"
             ],
             [
              0.1111111111111111,
              "#46039f"
             ],
             [
              0.2222222222222222,
              "#7201a8"
             ],
             [
              0.3333333333333333,
              "#9c179e"
             ],
             [
              0.4444444444444444,
              "#bd3786"
             ],
             [
              0.5555555555555556,
              "#d8576b"
             ],
             [
              0.6666666666666666,
              "#ed7953"
             ],
             [
              0.7777777777777778,
              "#fb9f3a"
             ],
             [
              0.8888888888888888,
              "#fdca26"
             ],
             [
              1,
              "#f0f921"
             ]
            ],
            "type": "heatmap"
           }
          ],
          "heatmapgl": [
           {
            "colorbar": {
             "outlinewidth": 0,
             "ticks": ""
            },
            "colorscale": [
             [
              0,
              "#0d0887"
             ],
             [
              0.1111111111111111,
              "#46039f"
             ],
             [
              0.2222222222222222,
              "#7201a8"
             ],
             [
              0.3333333333333333,
              "#9c179e"
             ],
             [
              0.4444444444444444,
              "#bd3786"
             ],
             [
              0.5555555555555556,
              "#d8576b"
             ],
             [
              0.6666666666666666,
              "#ed7953"
             ],
             [
              0.7777777777777778,
              "#fb9f3a"
             ],
             [
              0.8888888888888888,
              "#fdca26"
             ],
             [
              1,
              "#f0f921"
             ]
            ],
            "type": "heatmapgl"
           }
          ],
          "histogram": [
           {
            "marker": {
             "pattern": {
              "fillmode": "overlay",
              "size": 10,
              "solidity": 0.2
             }
            },
            "type": "histogram"
           }
          ],
          "histogram2d": [
           {
            "colorbar": {
             "outlinewidth": 0,
             "ticks": ""
            },
            "colorscale": [
             [
              0,
              "#0d0887"
             ],
             [
              0.1111111111111111,
              "#46039f"
             ],
             [
              0.2222222222222222,
              "#7201a8"
             ],
             [
              0.3333333333333333,
              "#9c179e"
             ],
             [
              0.4444444444444444,
              "#bd3786"
             ],
             [
              0.5555555555555556,
              "#d8576b"
             ],
             [
              0.6666666666666666,
              "#ed7953"
             ],
             [
              0.7777777777777778,
              "#fb9f3a"
             ],
             [
              0.8888888888888888,
              "#fdca26"
             ],
             [
              1,
              "#f0f921"
             ]
            ],
            "type": "histogram2d"
           }
          ],
          "histogram2dcontour": [
           {
            "colorbar": {
             "outlinewidth": 0,
             "ticks": ""
            },
            "colorscale": [
             [
              0,
              "#0d0887"
             ],
             [
              0.1111111111111111,
              "#46039f"
             ],
             [
              0.2222222222222222,
              "#7201a8"
             ],
             [
              0.3333333333333333,
              "#9c179e"
             ],
             [
              0.4444444444444444,
              "#bd3786"
             ],
             [
              0.5555555555555556,
              "#d8576b"
             ],
             [
              0.6666666666666666,
              "#ed7953"
             ],
             [
              0.7777777777777778,
              "#fb9f3a"
             ],
             [
              0.8888888888888888,
              "#fdca26"
             ],
             [
              1,
              "#f0f921"
             ]
            ],
            "type": "histogram2dcontour"
           }
          ],
          "mesh3d": [
           {
            "colorbar": {
             "outlinewidth": 0,
             "ticks": ""
            },
            "type": "mesh3d"
           }
          ],
          "parcoords": [
           {
            "line": {
             "colorbar": {
              "outlinewidth": 0,
              "ticks": ""
             }
            },
            "type": "parcoords"
           }
          ],
          "pie": [
           {
            "automargin": true,
            "type": "pie"
           }
          ],
          "scatter": [
           {
            "fillpattern": {
             "fillmode": "overlay",
             "size": 10,
             "solidity": 0.2
            },
            "type": "scatter"
           }
          ],
          "scatter3d": [
           {
            "line": {
             "colorbar": {
              "outlinewidth": 0,
              "ticks": ""
             }
            },
            "marker": {
             "colorbar": {
              "outlinewidth": 0,
              "ticks": ""
             }
            },
            "type": "scatter3d"
           }
          ],
          "scattercarpet": [
           {
            "marker": {
             "colorbar": {
              "outlinewidth": 0,
              "ticks": ""
             }
            },
            "type": "scattercarpet"
           }
          ],
          "scattergeo": [
           {
            "marker": {
             "colorbar": {
              "outlinewidth": 0,
              "ticks": ""
             }
            },
            "type": "scattergeo"
           }
          ],
          "scattergl": [
           {
            "marker": {
             "colorbar": {
              "outlinewidth": 0,
              "ticks": ""
             }
            },
            "type": "scattergl"
           }
          ],
          "scattermapbox": [
           {
            "marker": {
             "colorbar": {
              "outlinewidth": 0,
              "ticks": ""
             }
            },
            "type": "scattermapbox"
           }
          ],
          "scatterpolar": [
           {
            "marker": {
             "colorbar": {
              "outlinewidth": 0,
              "ticks": ""
             }
            },
            "type": "scatterpolar"
           }
          ],
          "scatterpolargl": [
           {
            "marker": {
             "colorbar": {
              "outlinewidth": 0,
              "ticks": ""
             }
            },
            "type": "scatterpolargl"
           }
          ],
          "scatterternary": [
           {
            "marker": {
             "colorbar": {
              "outlinewidth": 0,
              "ticks": ""
             }
            },
            "type": "scatterternary"
           }
          ],
          "surface": [
           {
            "colorbar": {
             "outlinewidth": 0,
             "ticks": ""
            },
            "colorscale": [
             [
              0,
              "#0d0887"
             ],
             [
              0.1111111111111111,
              "#46039f"
             ],
             [
              0.2222222222222222,
              "#7201a8"
             ],
             [
              0.3333333333333333,
              "#9c179e"
             ],
             [
              0.4444444444444444,
              "#bd3786"
             ],
             [
              0.5555555555555556,
              "#d8576b"
             ],
             [
              0.6666666666666666,
              "#ed7953"
             ],
             [
              0.7777777777777778,
              "#fb9f3a"
             ],
             [
              0.8888888888888888,
              "#fdca26"
             ],
             [
              1,
              "#f0f921"
             ]
            ],
            "type": "surface"
           }
          ],
          "table": [
           {
            "cells": {
             "fill": {
              "color": "#EBF0F8"
             },
             "line": {
              "color": "white"
             }
            },
            "header": {
             "fill": {
              "color": "#C8D4E3"
             },
             "line": {
              "color": "white"
             }
            },
            "type": "table"
           }
          ]
         },
         "layout": {
          "annotationdefaults": {
           "arrowcolor": "#2a3f5f",
           "arrowhead": 0,
           "arrowwidth": 1
          },
          "autotypenumbers": "strict",
          "coloraxis": {
           "colorbar": {
            "outlinewidth": 0,
            "ticks": ""
           }
          },
          "colorscale": {
           "diverging": [
            [
             0,
             "#8e0152"
            ],
            [
             0.1,
             "#c51b7d"
            ],
            [
             0.2,
             "#de77ae"
            ],
            [
             0.3,
             "#f1b6da"
            ],
            [
             0.4,
             "#fde0ef"
            ],
            [
             0.5,
             "#f7f7f7"
            ],
            [
             0.6,
             "#e6f5d0"
            ],
            [
             0.7,
             "#b8e186"
            ],
            [
             0.8,
             "#7fbc41"
            ],
            [
             0.9,
             "#4d9221"
            ],
            [
             1,
             "#276419"
            ]
           ],
           "sequential": [
            [
             0,
             "#0d0887"
            ],
            [
             0.1111111111111111,
             "#46039f"
            ],
            [
             0.2222222222222222,
             "#7201a8"
            ],
            [
             0.3333333333333333,
             "#9c179e"
            ],
            [
             0.4444444444444444,
             "#bd3786"
            ],
            [
             0.5555555555555556,
             "#d8576b"
            ],
            [
             0.6666666666666666,
             "#ed7953"
            ],
            [
             0.7777777777777778,
             "#fb9f3a"
            ],
            [
             0.8888888888888888,
             "#fdca26"
            ],
            [
             1,
             "#f0f921"
            ]
           ],
           "sequentialminus": [
            [
             0,
             "#0d0887"
            ],
            [
             0.1111111111111111,
             "#46039f"
            ],
            [
             0.2222222222222222,
             "#7201a8"
            ],
            [
             0.3333333333333333,
             "#9c179e"
            ],
            [
             0.4444444444444444,
             "#bd3786"
            ],
            [
             0.5555555555555556,
             "#d8576b"
            ],
            [
             0.6666666666666666,
             "#ed7953"
            ],
            [
             0.7777777777777778,
             "#fb9f3a"
            ],
            [
             0.8888888888888888,
             "#fdca26"
            ],
            [
             1,
             "#f0f921"
            ]
           ]
          },
          "colorway": [
           "#636efa",
           "#EF553B",
           "#00cc96",
           "#ab63fa",
           "#FFA15A",
           "#19d3f3",
           "#FF6692",
           "#B6E880",
           "#FF97FF",
           "#FECB52"
          ],
          "font": {
           "color": "#2a3f5f"
          },
          "geo": {
           "bgcolor": "white",
           "lakecolor": "white",
           "landcolor": "#E5ECF6",
           "showlakes": true,
           "showland": true,
           "subunitcolor": "white"
          },
          "hoverlabel": {
           "align": "left"
          },
          "hovermode": "closest",
          "mapbox": {
           "style": "light"
          },
          "paper_bgcolor": "white",
          "plot_bgcolor": "#E5ECF6",
          "polar": {
           "angularaxis": {
            "gridcolor": "white",
            "linecolor": "white",
            "ticks": ""
           },
           "bgcolor": "#E5ECF6",
           "radialaxis": {
            "gridcolor": "white",
            "linecolor": "white",
            "ticks": ""
           }
          },
          "scene": {
           "xaxis": {
            "backgroundcolor": "#E5ECF6",
            "gridcolor": "white",
            "gridwidth": 2,
            "linecolor": "white",
            "showbackground": true,
            "ticks": "",
            "zerolinecolor": "white"
           },
           "yaxis": {
            "backgroundcolor": "#E5ECF6",
            "gridcolor": "white",
            "gridwidth": 2,
            "linecolor": "white",
            "showbackground": true,
            "ticks": "",
            "zerolinecolor": "white"
           },
           "zaxis": {
            "backgroundcolor": "#E5ECF6",
            "gridcolor": "white",
            "gridwidth": 2,
            "linecolor": "white",
            "showbackground": true,
            "ticks": "",
            "zerolinecolor": "white"
           }
          },
          "shapedefaults": {
           "line": {
            "color": "#2a3f5f"
           }
          },
          "ternary": {
           "aaxis": {
            "gridcolor": "white",
            "linecolor": "white",
            "ticks": ""
           },
           "baxis": {
            "gridcolor": "white",
            "linecolor": "white",
            "ticks": ""
           },
           "bgcolor": "#E5ECF6",
           "caxis": {
            "gridcolor": "white",
            "linecolor": "white",
            "ticks": ""
           }
          },
          "title": {
           "x": 0.05
          },
          "xaxis": {
           "automargin": true,
           "gridcolor": "white",
           "linecolor": "white",
           "ticks": "",
           "title": {
            "standoff": 15
           },
           "zerolinecolor": "white",
           "zerolinewidth": 2
          },
          "yaxis": {
           "automargin": true,
           "gridcolor": "white",
           "linecolor": "white",
           "ticks": "",
           "title": {
            "standoff": 15
           },
           "zerolinecolor": "white",
           "zerolinewidth": 2
          }
         }
        },
        "title": {
         "text": "Netflix Content Distribution by Country"
        }
       }
      }
     },
     "metadata": {},
     "output_type": "display_data"
    }
   ],
   "source": [
    "import geopandas as gpd\n",
    "import plotly.express as px\n",
    "\n",
    "# Basic map to show content distribution by country\n",
    "country_counts = netflix_data['country'].value_counts().reset_index()\n",
    "country_counts.columns = ['country', 'count']\n",
    "\n",
    "fig = px.choropleth(country_counts, locations='country', locationmode='country names', color='count',\n",
    "                    color_continuous_scale=\"Viridis\", title='Netflix Content Distribution by Country')\n",
    "fig.show()\n"
   ]
  },
  {
   "cell_type": "markdown",
   "metadata": {},
   "source": [
    "6. Create a box plot of ratings by cast member"
   ]
  },
  {
   "cell_type": "code",
   "execution_count": 49,
   "metadata": {},
   "outputs": [
    {
     "name": "stderr",
     "output_type": "stream",
     "text": [
      "C:\\Users\\Gymnasiet\\AppData\\Local\\Temp\\ipykernel_28452\\278116212.py:14: FutureWarning:\n",
      "\n",
      "\n",
      "\n",
      "Passing `palette` without assigning `hue` is deprecated and will be removed in v0.14.0. Assign the `x` variable to `hue` and set `legend=False` for the same effect.\n",
      "\n",
      "\n"
     ]
    },
    {
     "data": {
      "image/png": "[encoded data removed]",
      "text/plain": [
       "<Figure size 1200x800 with 1 Axes>"
      ]
     },
     "metadata": {},
     "output_type": "display_data"
    }
   ],
   "source": [
    "# Drop any NaNs for simplicity\n",
    "netflix_data = netflix_data[['title', 'rating', 'cast']].dropna()\n",
    "\n",
    "# Split each cast member and create an expanded DataFrame\n",
    "cast_df = netflix_data.assign(cast=netflix_data['cast'].str.split(',')).explode('cast')\n",
    "cast_df['cast'] = cast_df['cast'].str.strip()  # Remove any leading/trailing spaces\n",
    "\n",
    "# Filter to top 10 most frequent cast members\n",
    "top_cast = cast_df['cast'].value_counts().nlargest(10).index\n",
    "top_cast_df = cast_df[cast_df['cast'].isin(top_cast)]\n",
    "\n",
    "# Create a box plot of ratings by cast member\n",
    "plt.figure(figsize=(12, 8))\n",
    "sns.boxplot(data=top_cast_df, x='cast', y='rating', palette='Set3')\n",
    "plt.xticks(rotation=45)\n",
    "plt.title('Rating Distribution for Top 10 Cast Members on Netflix')\n",
    "plt.xlabel('Cast Member')\n",
    "plt.ylabel('Rating')\n",
    "plt.show()"
   ]
  },
  {
   "cell_type": "markdown",
   "metadata": {},
   "source": []
  }
 ],
 "metadata": {
  "kernelspec": {
   "display_name": "Python 3",
   "language": "python",
   "name": "python3"
  },
  "language_info": {
   "codemirror_mode": {
    "name": "ipython",
    "version": 3
   },
   "file_extension": ".py",
   "mimetype": "text/x-python",
   "name": "python",
   "nbconvert_exporter": "python",
   "pygments_lexer": "ipython3",
   "version": "3.12.7"
  }
 },
 "nbformat": 4,
 "nbformat_minor": 2
}
